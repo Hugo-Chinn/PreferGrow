{
 "cells": [
  {
   "cell_type": "code",
   "execution_count": null,
   "metadata": {
    "vscode": {
     "languageId": "plaintext"
    }
   },
   "outputs": [],
   "source": [
    "from omegaconf import OmegaConf\n",
    "\n",
    "# 加载 YAML 文件\n",
    "config_path = \"./configs/config.yaml\"\n",
    "cfg = OmegaConf.load(config_path)\n",
    "\n",
    "# 使用配置\n",
    "print(cfg)  # 打印整个配置\n",
    "print(cfg.ngpus)  # 访问配置中的某个参数，例如 ngpus\n",
    "print(cfg.model.name)  # 如果配置中有嵌套结构，可以使用点操作符访问\n"
   ]
  }
 ],
 "metadata": {
  "language_info": {
   "name": "python"
  }
 },
 "nbformat": 4,
 "nbformat_minor": 2
}
